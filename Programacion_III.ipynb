{
  "cells": [
    {
      "cell_type": "markdown",
      "metadata": {
        "id": "view-in-github",
        "colab_type": "text"
      },
      "source": [
        "<a href=\"https://colab.research.google.com/github/Noemy02/Progra-III-2023/blob/main/Programacion_III.ipynb\" target=\"_parent\"><img src=\"https://colab.research.google.com/assets/colab-badge.svg\" alt=\"Open In Colab\"/></a>"
      ]
    },
    {
      "cell_type": "markdown",
      "metadata": {
        "id": "J5dZWP73MFTN"
      },
      "source": [
        "Tipos de datos"
      ]
    },
    {
      "cell_type": "code",
      "execution_count": null,
      "metadata": {
        "colab": {
          "base_uri": "https://localhost:8080/"
        },
        "id": "eA7riwZFL_Tj",
        "outputId": "9aad8e3a-75ad-4ff6-b746-09b0af65b9b5"
      },
      "outputs": [
        {
          "name": "stdout",
          "output_type": "stream",
          "text": [
            "Los valores: Num 1:  5  Num 2:  4.9\n",
            "Valor: Num 1:  5\n"
          ]
        }
      ],
      "source": [
        "num1 = 5 #variable de tipo entero.\n",
        "num2 = 4.9 #variable de tipo double, real, decimal.\n",
        "print(\"Los valores: Num 1: \", num1, \" Num 2: \", num2)\n",
        "\n",
        "#num1 = 4.9\n",
        "print(\"Valor: Num 1: \", num1)"
      ]
    },
    {
      "cell_type": "code",
      "execution_count": null,
      "metadata": {
        "colab": {
          "base_uri": "https://localhost:8080/"
        },
        "id": "qQOLo9ghMLEr",
        "outputId": "5d5b8de8-3edb-49dc-86b5-5c04a7420d63"
      },
      "outputs": [
        {
          "name": "stdout",
          "output_type": "stream",
          "text": [
            "Variable Booleana:  False\n"
          ]
        }
      ],
      "source": [
        "varLogica = False\n",
        "\n",
        "print(\"Variable Booleana: \", varLogica)"
      ]
    },
    {
      "cell_type": "code",
      "execution_count": null,
      "metadata": {
        "colab": {
          "base_uri": "https://localhost:8080/"
        },
        "id": "GqFhexcJMfbP",
        "outputId": "49d0a190-018d-4aff-bd8b-ab13996dc9dd"
      },
      "outputs": [
        {
          "name": "stdout",
          "output_type": "stream",
          "text": [
            "Mi Nombre: Lorena Bermudez\n",
            "Iniciales: L B\n",
            "Longitud del Nombre: 15\n",
            "Primer Nombre: Lorena\n",
            "Primer Nombre: Lorena\n",
            "Apellido: Bermudez\n",
            "Apellido: Bermudez\n",
            "Apellido:  Bermudez\n"
          ]
        }
      ],
      "source": [
        "nombre = \"Lorena Bermudez\"\n",
        "print(\"Mi Nombre:\", nombre)\n",
        "print(\"Iniciales:\", nombre[0], nombre[7])\n",
        "print(\"Longitud del Nombre:\", len(nombre))\n",
        "print(\"Primer Nombre:\", nombre[0:6])\n",
        "print(\"Primer Nombre:\", nombre[:6])\n",
        "print(\"Apellido:\", nombre[7:])\n",
        "print(\"Apellido:\", nombre[7:len(nombre)])\n",
        "print(\"Apellido:\", nombre[-9:])"
      ]
    },
    {
      "cell_type": "code",
      "execution_count": null,
      "metadata": {
        "colab": {
          "base_uri": "https://localhost:8080/"
        },
        "id": "0ap_oELQqjMg",
        "outputId": "5802ae53-29da-46b7-da9a-025203e76652"
      },
      "outputs": [
        {
          "name": "stdout",
          "output_type": "stream",
          "text": [
            "<class 'int'>\n",
            "<class 'float'>\n",
            "<class 'bool'>\n",
            "<class 'str'>\n"
          ]
        }
      ],
      "source": [
        "print(type(num1))\n",
        "print(type(num2))\n",
        "print(type(varLogica))\n",
        "print(type(nombre))"
      ]
    },
    {
      "cell_type": "code",
      "execution_count": null,
      "metadata": {
        "colab": {
          "base_uri": "https://localhost:8080/"
        },
        "id": "lDi6srU6r6Ec",
        "outputId": "6fc1e541-cddd-4b88-a9c3-3a90292aabe1"
      },
      "outputs": [
        {
          "name": "stdout",
          "output_type": "stream",
          "text": [
            "Num 1: 2\n",
            "Num 2: 4\n",
            "La suma es:  6.0\n"
          ]
        }
      ],
      "source": [
        "num1 = float(input(\"Num 1: \"))\n",
        "num2 = float(input(\"Num 2: \"))\n",
        "resp = num1 + num2\n",
        "print(\"La suma es: \", resp)"
      ]
    },
    {
      "cell_type": "code",
      "execution_count": null,
      "metadata": {
        "id": "YPHLplHbsKOR"
      },
      "outputs": [],
      "source": [
        "def suma(num1, num2):\n",
        "  return num1 + num2"
      ]
    },
    {
      "cell_type": "code",
      "execution_count": null,
      "metadata": {
        "colab": {
          "base_uri": "https://localhost:8080/"
        },
        "id": "ZQyc9YK0sOeC",
        "outputId": "455b6de0-d7dd-4cf3-88dd-074a847a570c"
      },
      "outputs": [
        {
          "name": "stdout",
          "output_type": "stream",
          "text": [
            "Num 1: 3\n",
            "N4.26um 2: 2\n",
            "5.0\n"
          ]
        }
      ],
      "source": [
        "num1 = float(input(\"Num 1: \"))\n",
        "num2 = float(input(\"N4.26um 2: \"))\n",
        "resp = suma(num1, num2)\n",
        "print(resp)"
      ]
    },
    {
      "cell_type": "markdown",
      "metadata": {
        "id": "jYPtSu7YLGEJ"
      },
      "source": [
        "\n",
        "\n",
        "*   Convertir de celsius a fahrenheit\n",
        "\n"
      ]
    },
    {
      "cell_type": "code",
      "execution_count": null,
      "metadata": {
        "id": "qyv17gTyBlPq"
      },
      "outputs": [],
      "source": [
        "def convertir_cf(c):\n",
        "   return c*9/5 +32"
      ]
    },
    {
      "cell_type": "code",
      "execution_count": null,
      "metadata": {
        "colab": {
          "base_uri": "https://localhost:8080/"
        },
        "id": "iHumojwABwpg",
        "outputId": "96b65e39-66bc-4bea-da05-b876cf9b2b6c"
      },
      "outputs": [
        {
          "name": "stdout",
          "output_type": "stream",
          "text": [
            "Celsius: 42\n",
            "F:  107.6\n"
          ]
        }
      ],
      "source": [
        "c = float(input(\"Celsius: \"))\n",
        "print(\"F: \", convertir_cf(c))"
      ]
    },
    {
      "cell_type": "markdown",
      "metadata": {
        "id": "P8OzVhFcLbzM"
      },
      "source": [
        "\n",
        "\n",
        "*   Convertir de fahrenheit a celsius\n",
        "\n"
      ]
    },
    {
      "cell_type": "code",
      "execution_count": null,
      "metadata": {
        "id": "rY-uayhGE3Jl"
      },
      "outputs": [],
      "source": [
        "def convertir_fc(f):\n",
        "   return (f-32) * 5/9"
      ]
    },
    {
      "cell_type": "code",
      "execution_count": null,
      "metadata": {
        "colab": {
          "base_uri": "https://localhost:8080/"
        },
        "id": "9TYoodMYFWMp",
        "outputId": "5b28baaf-860d-4a32-8926-67ce164eaac3"
      },
      "outputs": [
        {
          "name": "stdout",
          "output_type": "stream",
          "text": [
            "Fahrenheit: 107.6\n",
            "C:  42.0\n"
          ]
        }
      ],
      "source": [
        "f = float(input(\"Fahrenheit: \"))\n",
        "print(\"C: \", convertir_fc(f))"
      ]
    },
    {
      "cell_type": "markdown",
      "metadata": {
        "id": "l5h3E1neKogd"
      },
      "source": [
        "\n",
        "\n",
        "*   Convertir de celsius a kelvin\n",
        "\n"
      ]
    },
    {
      "cell_type": "code",
      "execution_count": null,
      "metadata": {
        "id": "jf2ktkNYIMw_"
      },
      "outputs": [],
      "source": [
        "def convertir_ck(k):\n",
        "   return k+273.15"
      ]
    },
    {
      "cell_type": "code",
      "execution_count": null,
      "metadata": {
        "colab": {
          "base_uri": "https://localhost:8080/"
        },
        "id": "rnbuCbr8INCW",
        "outputId": "e2367bad-0ba0-4814-ae68-bc1b15ff57b8"
      },
      "outputs": [
        {
          "name": "stdout",
          "output_type": "stream",
          "text": [
            "Kelvin: 42\n",
            "K:  315.15\n"
          ]
        }
      ],
      "source": [
        "k = float(input(\"Kelvin: \"))\n",
        "print(\"K: \", convertir_ck(k))"
      ]
    },
    {
      "cell_type": "markdown",
      "metadata": {
        "id": "PIYG1GZWKE9X"
      },
      "source": [
        "*   Calcular el sueldo mensual de un empleado"
      ]
    },
    {
      "cell_type": "code",
      "execution_count": null,
      "metadata": {
        "id": "1ZfMBk3kKLHy"
      },
      "outputs": [],
      "source": [
        "def sueldo(numHrs, valorXhr):\n",
        "  sueldo = numHrs*valorXhr*30\n",
        "  if (numHrs>8):\n",
        "    sueldo += (numHrs-8)*valorXhr*2*30\n",
        "    #isss + afp= 3 + 6.25 = 9.25 = 100 -9.25 = 90.75/100 = 0.9075\n",
        "    #sueldo = sueldo*0.9075\n",
        "  return sueldo"
      ]
    },
    {
      "cell_type": "code",
      "execution_count": null,
      "metadata": {
        "id": "3obbjMFPVQYT"
      },
      "outputs": [],
      "source": [
        "tabla_isr = [\n",
        "    [0.01, 472, 0, 0],\n",
        "    [472.01, 895.24, 0.1, 17.67],\n",
        "    [895.25, 2038.1, 0.2, 60.00],\n",
        "    [2038.11, 9999999, 0.3, 288.57]\n",
        "\n",
        "]"
      ]
    },
    {
      "cell_type": "code",
      "execution_count": null,
      "metadata": {
        "id": "9rqcbID9XV5p"
      },
      "outputs": [],
      "source": [
        "def calcularIsr(sueldo,sueldoNeto):\n",
        "  impSr = 0\n",
        "  for tramo in tabla_isr:\n",
        "    if sueldo>tramo[0] and sueldo<=tramo[1]:\n",
        "      impSr = (sueldoNeto-tramo[0])*tramo[2] + tramo[3]\n",
        "    return impSr"
      ]
    },
    {
      "cell_type": "code",
      "execution_count": null,
      "metadata": {
        "colab": {
          "base_uri": "https://localhost:8080/"
        },
        "id": "cD8a3Xg1K4uP",
        "outputId": "e6a5aa3e-5ce9-48b9-e3ca-a85f725e67d8"
      },
      "outputs": [
        {
          "name": "stdout",
          "output_type": "stream",
          "text": [
            "Horas trabajadas: 8\n",
            "Sueldo:  960.0 ISR:  0 871.1999999999999\n"
          ]
        }
      ],
      "source": [
        "valorXhr = 4\n",
        "numHrs = float(input(\"Horas trabajadas: \"))\n",
        "s = sueldo(numHrs, valorXhr)\n",
        "isr= calcularIsr(s, s*0.9075)\n",
        "print(\"Sueldo: \", s, \"ISR: \", isr, s*0.9075-isr )"
      ]
    },
    {
      "cell_type": "markdown",
      "metadata": {
        "id": "6PLkETZWscwg"
      },
      "source": [
        "**FUNCIONES LAMBDA**\n",
        "* FUNCIONES PRECONTRUIDAS MAP, FILTER, FIND, REDUCE, ETC."
      ]
    },
    {
      "cell_type": "code",
      "execution_count": null,
      "metadata": {
        "id": "u_LHrVzhseBg"
      },
      "outputs": [],
      "source": [
        "def elevarCuadrado(num):\n",
        "  return num**2"
      ]
    },
    {
      "cell_type": "code",
      "execution_count": null,
      "metadata": {
        "id": "WVDgB0RXskEq"
      },
      "outputs": [],
      "source": [
        "data = [1,2,3,4,5]"
      ]
    },
    {
      "cell_type": "code",
      "execution_count": null,
      "metadata": {
        "colab": {
          "base_uri": "https://localhost:8080/"
        },
        "id": "ingHug81snfV",
        "outputId": "3e9a5c54-fa1b-4b3b-f0e4-5f9e6c2748e8"
      },
      "outputs": [
        {
          "name": "stdout",
          "output_type": "stream",
          "text": [
            "[1, 4, 9, 16, 25]\n"
          ]
        }
      ],
      "source": [
        "resp = map(elevarCuadrado, data)\n",
        "print(list(resp))"
      ]
    },
    {
      "cell_type": "code",
      "execution_count": null,
      "metadata": {
        "colab": {
          "base_uri": "https://localhost:8080/"
        },
        "id": "OCdzKPl0sn6n",
        "outputId": "15b47452-aafb-4c09-ae69-f45544f32995"
      },
      "outputs": [
        {
          "name": "stdout",
          "output_type": "stream",
          "text": [
            "[1, 4, 9, 16, 25]\n"
          ]
        }
      ],
      "source": [
        "resp = map(lambda n:n**2, data)\n",
        "print(list(resp))"
      ]
    },
    {
      "cell_type": "code",
      "execution_count": null,
      "metadata": {
        "colab": {
          "base_uri": "https://localhost:8080/"
        },
        "id": "caflWv0xsy71",
        "outputId": "3c25bb1c-c163-4055-c62b-7051b9a9dd18"
      },
      "outputs": [
        {
          "name": "stdout",
          "output_type": "stream",
          "text": [
            "[3, 4, 5]\n"
          ]
        }
      ],
      "source": [
        "resp = filter(lambda n:n>2, data)\n",
        "print( list(resp) )"
      ]
    },
    {
      "cell_type": "code",
      "execution_count": null,
      "metadata": {
        "colab": {
          "base_uri": "https://localhost:8080/"
        },
        "id": "GJiv8HEhs_XO",
        "outputId": "6f293a40-93f5-4e99-fb5e-8f866b6e8aed"
      },
      "outputs": [
        {
          "name": "stdout",
          "output_type": "stream",
          "text": [
            "15\n"
          ]
        }
      ],
      "source": [
        "import functools\n",
        "\n",
        "data = [1, 2, 3, 4, 5]\n",
        "resp = functools.reduce(lambda a, n: a + n, data)\n",
        "print(resp)\n"
      ]
    },
    {
      "cell_type": "markdown",
      "metadata": {
        "id": "e2Q8tn2Bt5fK"
      },
      "source": [
        "Tuplas"
      ]
    },
    {
      "cell_type": "code",
      "execution_count": null,
      "metadata": {
        "colab": {
          "base_uri": "https://localhost:8080/"
        },
        "id": "cUuSPXNruBX3",
        "outputId": "90dc2f05-4c37-4027-aa48-cb68525bb542"
      },
      "outputs": [
        {
          "name": "stdout",
          "output_type": "stream",
          "text": [
            "1\n",
            "7\n"
          ]
        }
      ],
      "source": [
        "semana = (\"domingo\", \"lunes\", \"martes\", \"miercoles\", \"jueves\", \"viernes\", \"sabado\")\n",
        "#semana[0] = \"otro\"\n",
        "print( semana.count(\"domingo\") ) #count cuenta el numero de veces que aparece un elemento en la tupla\n",
        "print( len(semana) )"
      ]
    },
    {
      "cell_type": "markdown",
      "metadata": {
        "id": "EioOXrP0uLi7"
      },
      "source": [
        "Listas"
      ]
    },
    {
      "cell_type": "code",
      "execution_count": null,
      "metadata": {
        "colab": {
          "base_uri": "https://localhost:8080/"
        },
        "id": "S3ivnfBluPZh",
        "outputId": "1f0b13b1-cbe9-49f8-fa9b-9624f1533858"
      },
      "outputs": [
        {
          "name": "stdout",
          "output_type": "stream",
          "text": [
            "['nov', 'dic']\n",
            "['ene', 'feb']\n",
            "['enero', 'feb', 'mar', 'abr', 'may', 'jun', 'jul', 'ago', 'sep', 'oct', 'nov', 'dic']\n"
          ]
        }
      ],
      "source": [
        "meses = [\"ene\", \"feb\", \"mar\", \"abr\", \"may\", \"jun\", \"jul\", \"ago\", \"sep\", \"oct\", \"nov\", \"dic\"]\n",
        "print( meses[-2:] ) #ultimos dos meses del año\n",
        "print( meses[:2] ) #primero dos meses del año\n",
        "\n",
        "meses[0] = \"enero\"\n",
        "\n",
        "print( meses )"
      ]
    },
    {
      "cell_type": "code",
      "execution_count": null,
      "metadata": {
        "colab": {
          "base_uri": "https://localhost:8080/"
        },
        "id": "SvlpiqIouX6J",
        "outputId": "55482254-ef2a-4ab2-99c6-8aab6dac34cc"
      },
      "outputs": [
        {
          "name": "stdout",
          "output_type": "stream",
          "text": [
            "Progra II\n"
          ]
        }
      ],
      "source": [
        "materias = [ [\"Progra I\", [5,6,8], [8,7,9], [9,10,9] ], [\"Progra II\"] ]\n",
        "print( materias[1][0] )"
      ]
    },
    {
      "cell_type": "markdown",
      "metadata": {
        "id": "50KhrpUSufce"
      },
      "source": [
        "Diccionarios = JSON"
      ]
    },
    {
      "cell_type": "code",
      "execution_count": null,
      "metadata": {
        "colab": {
          "base_uri": "https://localhost:8080/"
        },
        "id": "roZSjg1muitD",
        "outputId": "03cb8410-8a99-49df-b482-a14253900317"
      },
      "outputs": [
        {
          "name": "stdout",
          "output_type": "stream",
          "text": [
            "5\n"
          ]
        }
      ],
      "source": [
        "materias = {\n",
        "    \"Progra I\": {\n",
        "        \"c1\": {\n",
        "          \"lab1\" : 5,\n",
        "          \"lab2\" : 6,\n",
        "          \"parcial\" : 8\n",
        "      },\n",
        "      \"c2\": {\n",
        "          \"lab1\" : 8,\n",
        "          \"lab2\" : 7,\n",
        "          \"parcial\" : 9\n",
        "      },\n",
        "      \"c3\": {\n",
        "          \"lab1\" : 9,\n",
        "          \"lab2\" : 10,\n",
        "          \"parcial\" : 9\n",
        "      }\n",
        "    },\n",
        "    \"Progra II\" :{\n",
        "\n",
        "    }\n",
        "}\n",
        "print( materias[\"Progra I\"][\"c1\"][\"lab1\"] )"
      ]
    },
    {
      "cell_type": "markdown",
      "metadata": {
        "id": "l6Mzj7KIHst4"
      },
      "source": [
        "LISTAS"
      ]
    },
    {
      "cell_type": "code",
      "execution_count": null,
      "metadata": {
        "id": "DQtszBsJHp4g"
      },
      "outputs": [],
      "source": [
        "data = [2,5,6,8,9]"
      ]
    },
    {
      "cell_type": "code",
      "execution_count": null,
      "metadata": {
        "colab": {
          "base_uri": "https://localhost:8080/"
        },
        "id": "V4q6Cwb5KgyO",
        "outputId": "a7e85e99-a27a-4444-c4e7-660d66287ca7"
      },
      "outputs": [
        {
          "name": "stdout",
          "output_type": "stream",
          "text": [
            "[8, 125, 216, 512, 729]\n"
          ]
        }
      ],
      "source": [
        "resp = map(lambda n:n**3, data)\n",
        "print(list(resp))"
      ]
    },
    {
      "cell_type": "code",
      "execution_count": null,
      "metadata": {
        "colab": {
          "base_uri": "https://localhost:8080/"
        },
        "id": "6l3SHLmVH6pX",
        "outputId": "4f9d18f7-bca0-4bb1-fc2d-b814bbe7026b"
      },
      "outputs": [
        {
          "name": "stdout",
          "output_type": "stream",
          "text": [
            "[35.6, 41.0, 42.8, 46.4, 48.2]\n"
          ]
        }
      ],
      "source": [
        "resp = map(lambda n:n*9/5+32, data)\n",
        "print(list(resp))"
      ]
    },
    {
      "cell_type": "code",
      "execution_count": null,
      "metadata": {
        "colab": {
          "base_uri": "https://localhost:8080/"
        },
        "id": "hjnTNDh_KpTt",
        "outputId": "089d4fdb-b679-4bd5-c392-26c6fa774f71"
      },
      "outputs": [
        {
          "name": "stdout",
          "output_type": "stream",
          "text": [
            "[2, 6, 8]\n"
          ]
        }
      ],
      "source": [
        "pares = filter(lambda n:n%2==0, data );\n",
        "print(list(pares))"
      ]
    },
    {
      "cell_type": "code",
      "execution_count": null,
      "metadata": {
        "colab": {
          "base_uri": "https://localhost:8080/"
        },
        "id": "y424q5BrNurz",
        "outputId": "d27e18d8-ea4f-43e3-e277-23b9719ce50d"
      },
      "outputs": [
        {
          "name": "stdout",
          "output_type": "stream",
          "text": [
            "[5, 9]\n"
          ]
        }
      ],
      "source": [
        "impares = filter(lambda n:n%2!=0, data)\n",
        "print(list(impares))"
      ]
    },
    {
      "cell_type": "markdown",
      "metadata": {
        "id": "hQXo9Qp4OZEZ"
      },
      "source": [
        "**CICLOS**\n",
        "\n",
        "\n",
        "*   FOR\n",
        "\n"
      ]
    },
    {
      "cell_type": "code",
      "execution_count": null,
      "metadata": {
        "colab": {
          "base_uri": "https://localhost:8080/"
        },
        "id": "ACu7AxYHOvT7",
        "outputId": "b32d641b-67ad-4b90-c0ae-a73bf236c49c"
      },
      "outputs": [
        {
          "name": "stdout",
          "output_type": "stream",
          "text": [
            "2\n",
            "5\n",
            "6\n",
            "8\n",
            "9\n"
          ]
        }
      ],
      "source": [
        "for item in data:\n",
        "  print(item)"
      ]
    },
    {
      "cell_type": "markdown",
      "metadata": {
        "id": "X6HRRrUAO_Bt"
      },
      "source": [
        "\n",
        "\n",
        "*   WHILE\n",
        "\n"
      ]
    },
    {
      "cell_type": "code",
      "execution_count": null,
      "metadata": {
        "colab": {
          "base_uri": "https://localhost:8080/"
        },
        "id": "0veOUWLePDHI",
        "outputId": "77c98500-80ea-4e57-95e8-635aef55bca4"
      },
      "outputs": [
        {
          "name": "stdout",
          "output_type": "stream",
          "text": [
            "2\n",
            "5\n",
            "6\n",
            "8\n",
            "9\n"
          ]
        }
      ],
      "source": [
        "i=0\n",
        "n= len(data)\n",
        "while i<n:\n",
        "  print( data[i])\n",
        "  i+=1"
      ]
    },
    {
      "cell_type": "markdown",
      "metadata": {
        "id": "g5w2Nn_cSlF9"
      },
      "source": [
        "TABLAS DE MULTIPLICAR"
      ]
    },
    {
      "cell_type": "code",
      "execution_count": null,
      "metadata": {
        "colab": {
          "base_uri": "https://localhost:8080/"
        },
        "id": "FW71NR6kPgqB",
        "outputId": "d1f1a53d-abd1-4824-9670-103bf017deb1"
      },
      "outputs": [
        {
          "name": "stdout",
          "output_type": "stream",
          "text": [
            "Numero de tabla: 1000000\n",
            "1000000 x 1 = 1000000\n",
            "1000000 x 2 = 2000000\n",
            "1000000 x 3 = 3000000\n",
            "1000000 x 4 = 4000000\n",
            "1000000 x 5 = 5000000\n",
            "1000000 x 6 = 6000000\n",
            "1000000 x 7 = 7000000\n",
            "1000000 x 8 = 8000000\n",
            "1000000 x 9 = 9000000\n",
            "1000000 x 10 = 10000000\n"
          ]
        }
      ],
      "source": [
        "d = int(input( \"Numero de tabla: \" ))\n",
        "for f in range(1,11):\n",
        "  multiplicacion = d * f\n",
        "  print(f'{d} x {f} = {multiplicacion}')"
      ]
    },
    {
      "cell_type": "code",
      "execution_count": null,
      "metadata": {
        "colab": {
          "base_uri": "https://localhost:8080/"
        },
        "id": "t-0P-IMzJ1Gm",
        "outputId": "07c6253e-aaa7-4907-f9bb-7e9ae0551c5e"
      },
      "outputs": [
        {
          "name": "stdout",
          "output_type": "stream",
          "text": [
            "Edad: 10\n",
            "Soy un niño\n"
          ]
        }
      ],
      "source": [
        "edad = int(input(\"Edad: \"))\n",
        "\n",
        "if edad<=2:\n",
        "  print(\"soy un bebe\")\n",
        "elif edad<=11:\n",
        "  print(\"Soy un niño\")\n",
        "elif edad<18:\n",
        "  print(\"Soy un adolescente\")\n",
        "elif edad<=65:\n",
        "  print(\"soy mayor de edad\")\n",
        "elif edad<=85:\n",
        "  print(\"Soy un adulto mayor\")\n",
        "else:\n",
        "  print(\"Larga vida\")"
      ]
    },
    {
      "cell_type": "code",
      "execution_count": null,
      "metadata": {
        "id": "G9daY1wHLTz0"
      },
      "outputs": [],
      "source": [
        "lista = [5,8,9,15,7,9,2,3, 2, 1]"
      ]
    },
    {
      "cell_type": "code",
      "execution_count": null,
      "metadata": {
        "colab": {
          "base_uri": "https://localhost:8080/"
        },
        "id": "hBz3FtLxLZu3",
        "outputId": "fd75346f-d683-426b-e97f-fb6a385fb2c6"
      },
      "outputs": [
        {
          "name": "stdout",
          "output_type": "stream",
          "text": [
            "EL numero mayor de la lista:  [5, 8, 9, 15, 7, 9, 2, 3, 2, 1] es:  15\n"
          ]
        }
      ],
      "source": [
        "mayor = 0\n",
        "for num in lista:\n",
        "  if num>mayor:\n",
        "    mayor = num\n",
        "print(\"EL numero mayor de la lista: \", lista, \"es: \", mayor)"
      ]
    },
    {
      "cell_type": "code",
      "execution_count": null,
      "metadata": {
        "colab": {
          "base_uri": "https://localhost:8080/"
        },
        "id": "-tv38lIMLfCc",
        "outputId": "8f45bc2c-7cec-4f63-bd9f-04db962e434f"
      },
      "outputs": [
        {
          "name": "stdout",
          "output_type": "stream",
          "text": [
            "15\n"
          ]
        }
      ],
      "source": [
        "mayor = 0\n",
        "i=0\n",
        "n=len(lista)\n",
        "while i<n:\n",
        "  if lista[i]>mayor:\n",
        "    mayor = lista[i]\n",
        "  i+=1\n",
        "print(mayor)"
      ]
    },
    {
      "cell_type": "markdown",
      "metadata": {
        "id": "pk_Q72ouJ2mG"
      },
      "source": [
        "Escribir un prgrama que pida la nota de examen (0-10), e imprima por pantalla la calificacion en formato: \"Suspenso\" si la nota es menor a 5, \"Aprobado\" si es entre 5 inclusive, y 7 sin incluir, \"Notable\" si esta entre 7 inclusive y 9 sin incluir, \"Sobresaliente\" si esta entre 9 inclusive y 10 sin incluir, y \"Honorable\" si es 10"
      ]
    },
    {
      "cell_type": "code",
      "execution_count": null,
      "metadata": {
        "colab": {
          "base_uri": "https://localhost:8080/"
        },
        "id": "pAjh8B0HL1e6",
        "outputId": "ae5a37a4-db0a-4e75-c547-04055fffe3f8"
      },
      "outputs": [
        {
          "name": "stdout",
          "output_type": "stream",
          "text": [
            "Digite su nota: 8.9\n",
            "Notable\n"
          ]
        }
      ],
      "source": [
        "Nota_Examen = float(input(\"Digite su nota: \"))\n",
        "\n",
        "if (Nota_Examen<0 or Nota_Examen>10):\n",
        "  print(\"Nota invalida\")\n",
        "elif (Nota_Examen<5):\n",
        "  print(\"Suspenso\")\n",
        "elif (Nota_Examen<7):\n",
        "  print(\"Aprobado\")\n",
        "elif (Nota_Examen<9):\n",
        "  print(\"Notable\")\n",
        "elif (Nota_Examen<10):\n",
        "  print(\"Sobresaliente\")\n",
        "else:\n",
        "  print(\"Honorable\")"
      ]
    },
    {
      "cell_type": "markdown",
      "metadata": {
        "id": "fljBvFoSTXHS"
      },
      "source": [
        "Escribe un programa que muestre la secuencia fibonacci"
      ]
    },
    {
      "cell_type": "code",
      "execution_count": null,
      "metadata": {
        "colab": {
          "base_uri": "https://localhost:8080/"
        },
        "id": "ZmDielH5TgCK",
        "outputId": "4a1f7727-c117-4793-d3b2-e4ff4f12cfc6"
      },
      "outputs": [
        {
          "name": "stdout",
          "output_type": "stream",
          "text": [
            "Limit: 10\n",
            "0 + 1 = 1\n",
            "1 + 0 = 1\n",
            "1 + 1 = 2\n",
            "2 + 1 = 3\n",
            "3 + 2 = 5\n",
            "5 + 3 = 8\n",
            "8 + 5 = 13\n"
          ]
        }
      ],
      "source": [
        "limit = int(input(\"Limit: \"))\n",
        "a=0\n",
        "b=1\n",
        "c=0\n",
        "while c<limit:\n",
        "  c=a+b\n",
        "  print(a,\"+\",b,\"=\", c)\n",
        "  b=a\n",
        "  a=c"
      ]
    },
    {
      "cell_type": "markdown",
      "metadata": {
        "id": "020N5Nxmczs-"
      },
      "source": [
        "Escriba un programa que encuentre la media aritmetica de una serie de numeros introducidos por el usuario.\n",
        "\n"
      ]
    },
    {
      "cell_type": "code",
      "execution_count": null,
      "metadata": {
        "colab": {
          "base_uri": "https://localhost:8080/"
        },
        "id": "aItcmXVCPYPa",
        "outputId": "5bd8b34a-c049-43bc-ae3f-740a6afbc210"
      },
      "outputs": [
        {
          "name": "stdout",
          "output_type": "stream",
          "text": [
            "Introduce una serie de números separados por espacios: 1 2 3 4 5 67 66\n",
            "La media aritmética de los números ingresados es: 21.142857142857142\n"
          ]
        }
      ],
      "source": [
        "def calcular_media(lista_numeros):\n",
        "    suma = sum(lista_numeros)\n",
        "    media = suma / len(lista_numeros)\n",
        "    return media\n",
        "\n",
        "numeros_usuario = input(\"Introduce una serie de números separados por espacios: \")\n",
        "numeros_lista = [float(numero) for numero in numeros_usuario.split()]\n",
        "\n",
        "if numeros_lista:\n",
        "    media = calcular_media(numeros_lista)\n",
        "    print(f\"La media aritmética de los números ingresados es: {media}\")\n",
        "else:\n",
        "    print(\"No se ingresaron números válidos.\")"
      ]
    },
    {
      "cell_type": "markdown",
      "metadata": {
        "id": "elTy96DjPUM1"
      },
      "source": [
        "Escriba un programa que determine si una palabra introducida por el usuario es palindrome o no, ejem. de palindrome: Ana, oso, oro, etc."
      ]
    },
    {
      "cell_type": "code",
      "execution_count": null,
      "metadata": {
        "colab": {
          "base_uri": "https://localhost:8080/"
        },
        "id": "qS7Ue0BuPzxV",
        "outputId": "6f1aeae2-201b-43bb-edc2-1cc461a71bff"
      },
      "outputs": [
        {
          "name": "stdout",
          "output_type": "stream",
          "text": [
            "Introduce una palabra: Ana\n",
            "Ana es un palíndrome.\n"
          ]
        }
      ],
      "source": [
        "def es_palindrome(palabra):\n",
        "    palabra = palabra.lower()\n",
        "    palabra = palabra.replace(\" \", \"\")\n",
        "    return palabra == palabra[::-1]\n",
        "\n",
        "palabra_usuario = input(\"Introduce una palabra: \")\n",
        "\n",
        "if es_palindrome(palabra_usuario):\n",
        "    print(f\"{palabra_usuario} es un palíndrome.\")\n",
        "else:\n",
        "    print(f\"{palabra_usuario} no es un palíndrome.\")\n"
      ]
    },
    {
      "cell_type": "markdown",
      "metadata": {
        "id": "H2O_kgPwPWZO"
      },
      "source": [
        "\n",
        "\n",
        "Escriba un programa que convierta un numero introducido por el usuario a su equivalente en numeros romanos. Ejm: 5 -> V"
      ]
    },
    {
      "cell_type": "code",
      "execution_count": null,
      "metadata": {
        "id": "khHFNbmkPvmK"
      },
      "outputs": [],
      "source": [
        "def decimal_a_romano(numero):\n",
        "    val = [\n",
        "        1000, 900, 500, 400,\n",
        "        100, 90, 50, 40,\n",
        "        10, 9, 5, 4,\n",
        "        1\n",
        "        ]\n",
        "    syb = [\n",
        "        \"M\", \"CM\", \"D\", \"CD\",\n",
        "        \"C\", \"XC\", \"L\", \"XL\",\n",
        "        \"X\", \"IX\", \"V\", \"IV\",\n",
        "        \"I\"\n",
        "        ]\n",
        "    roman_num = ''\n",
        "    i = 0\n",
        "    while  numero > 0:\n",
        "        for _ in range(numero // val[i]):\n",
        "            roman_num += syb[i]\n",
        "            numero -= val[i]\n",
        "        i += 1\n",
        "    return roman_num\n",
        "\n",
        "try:\n",
        "    numero_decimal = int(input(\"Introduce un número decimal: \"))\n",
        "    if numero_decimal <= 0:\n",
        "        print(\"Ingresa un número entero positivo.\")\n",
        "    else:\n",
        "        numero_romano = decimal_a_romano(numero_decimal)\n",
        "        print(f\"El número romano equivalente es: {numero_romano}\")\n",
        "except ValueError:\n",
        "    print(\"Ingresa un número válido.\")"
      ]
    },
    {
      "cell_type": "markdown",
      "metadata": {
        "id": "cjAb631IMx6A"
      },
      "source": [
        "PROGRAMACION ORIENTADA A OBJETOS.\n",
        "\n",
        "CLASE"
      ]
    },
    {
      "cell_type": "code",
      "execution_count": null,
      "metadata": {
        "id": "97hPG92DMzOM"
      },
      "outputs": [],
      "source": [
        "class Calculadora:\n",
        "  def sumar(sefl, num1, num2):\n",
        "    return num1 + num2"
      ]
    },
    {
      "cell_type": "markdown",
      "metadata": {
        "id": "WupAf_BGM4Ke"
      },
      "source": [
        "* INSTANCIA DE UNA CLASE"
      ]
    },
    {
      "cell_type": "code",
      "execution_count": null,
      "metadata": {
        "id": "IwzKlcu2M4tD"
      },
      "outputs": [],
      "source": [
        "objCalculadora = Calculadora()"
      ]
    },
    {
      "cell_type": "markdown",
      "metadata": {
        "id": "XNyFCyDLM6zt"
      },
      "source": [
        "* OBJETO\n"
      ]
    },
    {
      "cell_type": "code",
      "execution_count": null,
      "metadata": {
        "colab": {
          "base_uri": "https://localhost:8080/"
        },
        "id": "4OSd5yHIM9eO",
        "outputId": "b00e7c6c-4413-438c-f11b-3e8b5d3fd9a8"
      },
      "outputs": [
        {
          "name": "stdout",
          "output_type": "stream",
          "text": [
            "La suma de 5 + 3 =  8\n"
          ]
        }
      ],
      "source": [
        "print( \"La suma de 5 + 3 = \", objCalculadora.sumar(5,3) )"
      ]
    },
    {
      "cell_type": "markdown",
      "metadata": {
        "id": "L9FHO9SJO6C_"
      },
      "source": [
        "PARCIAL-I PROGRA-III"
      ]
    },
    {
      "cell_type": "code",
      "execution_count": null,
      "metadata": {
        "colab": {
          "background_save": true,
          "base_uri": "https://localhost:8080/"
        },
        "id": "0IRHPyFzWa2c",
        "outputId": "806f87d6-23e6-45cf-c802-2e34af2f8ac9"
      },
      "outputs": [
        {
          "output_type": "stream",
          "name": "stdout",
          "text": [
            "\u001b[1;33m  CONVERSOR DE: \u001b[0m\n",
            "Area\n",
            "1. Conversor de Área\n",
            "2. Salir\n",
            "Seleccione una opción: 1\n",
            "\u001b[1;31m  Conversor de Area \n",
            "\u001b[92mUnidades Disponibles\u001b[0m\n",
            "mc: Metro cuadrado\n",
            "yc: Yarda cuadrada\n",
            "pc: Pie cuadrado\n",
            "hec: Hectárea\n",
            "vc: Vara Cuadrada\n",
            "mnz: Manzana\n",
            "tar: Tareas\n",
            "Convertir de:  mc\n",
            "Convertir a: vc\n",
            "Ingrese la cantidad a convertir mc: 1\n",
            "1.00 mc es igual a 25.290000 vc.\n",
            "¿Deseas seguir en el conversor? (si) para continuar o cualquier otra tecla para salirSi\n",
            "\u001b[92mUnidades Disponibles\u001b[0m\n",
            "mc: Metro cuadrado\n",
            "yc: Yarda cuadrada\n",
            "pc: Pie cuadrado\n",
            "hec: Hectárea\n",
            "vc: Vara Cuadrada\n",
            "mnz: Manzana\n",
            "tar: Tareas\n",
            "Convertir de:  mnz\n",
            "Convertir a: tar\n",
            "Ingrese la cantidad a convertir mnz: 3\n",
            "3.00 mnz es igual a 47.842646 tar.\n",
            "¿Deseas seguir en el conversor? (si) para continuar o cualquier otra tecla para salir0\n",
            "\u001b[1;33m  CONVERSOR DE: \u001b[0m\n",
            "Area\n",
            "1. Conversor de Área\n",
            "2. Salir\n"
          ]
        }
      ],
      "source": [
        "area = {\n",
        "    \"mc\": (1.0, \"Metro cuadrado\"),\n",
        "    \"yc\": (1.19599, \"Yarda cuadrada\"),\n",
        "    \"pc\": (10.7639, \"Pie cuadrado\"),\n",
        "    \"hec\": (0.0001, \"Hectárea\"),\n",
        "    \"vc\": (25.29, \"Vara Cuadrada\"),\n",
        "    \"mnz\": (0.000143327, \"Manzana\"),\n",
        "    \"tar\": (0.002285714285714286, \"Tareas\"),\n",
        "}\n",
        "\n",
        "def convertir_unidades(conversores):\n",
        "    while True:\n",
        "        print(\"\\033[92m\" + \"Unidades Disponibles\" + \"\\033[0m\")\n",
        "        for unidad in conversores:\n",
        "            print(unidad + \": \" + conversores[unidad][1])\n",
        "\n",
        "        convertir_de = \"\"\n",
        "        convertir_a = \"\"\n",
        "        while convertir_de not in conversores:\n",
        "            convertir_de = input(\"Convertir de:  \")\n",
        "            if convertir_de not in conversores:\n",
        "                print(\"unidad no válida. Inténtelo nuevamente.\")\n",
        "\n",
        "        while convertir_a not in conversores:\n",
        "            convertir_a = input(\"Convertir a: \").lower()\n",
        "            if convertir_a not in conversores:\n",
        "                print(\"unidad no válida. Inténtelo nuevamente.\")\n",
        "\n",
        "        while True:\n",
        "            cantidad_input = input(f\"Ingrese la cantidad a convertir {convertir_de}: \")\n",
        "            try:\n",
        "                cantidad = float(cantidad_input)\n",
        "                break\n",
        "            except ValueError:\n",
        "                print(\"Ingrese un valor numérico .\")\n",
        "        origen = conversores[convertir_de][0]\n",
        "        destino = conversores[convertir_a][0]\n",
        "\n",
        "        operacion = (destino / origen) * cantidad\n",
        "\n",
        "        if operacion <= 0:\n",
        "            print(\"La conversion no es posible. Introduzca una cantidad superior a 0.\")\n",
        "        elif (operacion) < 0.001 or (operacion) >= 100000000000:\n",
        "            print(f\"{cantidad:.2f} {convertir_de} es igual a {operacion:.6e} {convertir_a}. en notación científica\")\n",
        "        else:\n",
        "            print(f\"{cantidad:.2f} {convertir_de} es igual a {operacion:.6f} {convertir_a}.\")\n",
        "\n",
        "        salir = input(\"¿Deseas seguir en el conversor? (si) para continuar o cualquier otra tecla para salir\")\n",
        "        if salir.lower() != \"si\":\n",
        "            break\n",
        "\n",
        "def conversor_area():\n",
        "    print(chr(27) + \"[1;31m\" + \"  Conversor de Area \")\n",
        "    convertir_unidades(area)\n",
        "\n",
        "def menu_de_conversion_area():\n",
        "    while True:\n",
        "        print(chr(27) + \"[1;33m\" + \"  CONVERSOR DE: \" + \"\\033[0m\")\n",
        "        print(\"Area\")\n",
        "\n",
        "\n",
        "        print(\"1. Conversor de Área\")\n",
        "        print(\"2. Salir\")\n",
        "\n",
        "        option = input(\"Seleccione una opción: \")\n",
        "\n",
        "        if option == \"1\":\n",
        "            conversor_area()\n",
        "        elif option == \"2\":\n",
        "            print(\"¡Gracias por usar el conversor!\")\n",
        "            break\n",
        "        else:\n",
        "            print(\"Opción no válida. Por favor, seleccione una opción válida.\")\n",
        "\n",
        "menu_de_conversion_area()"
      ]
    }
  ],
  "metadata": {
    "colab": {
      "provenance": [],
      "include_colab_link": true
    },
    "kernelspec": {
      "display_name": "Python 3",
      "name": "python3"
    },
    "language_info": {
      "name": "python"
    }
  },
  "nbformat": 4,
  "nbformat_minor": 0
}